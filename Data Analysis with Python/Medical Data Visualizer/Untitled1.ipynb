{
 "cells": [
  {
   "cell_type": "code",
   "execution_count": 1,
   "id": "191582fc-464c-42b7-868a-db2ace1fafd8",
   "metadata": {},
   "outputs": [],
   "source": [
    "import pandas as pd\n",
    "import seaborn as sns\n",
    "import matplotlib.pyplot as plt\n",
    "import numpy as np\n",
    "\n",
    "# Import data\n",
    "file_name = 'medical_examination.csv'\n",
    "df = pd.read_csv(file_name)\n",
    "#df.loc[:,'age'] = (df.loc[:,'age'] / int(365)).round(0).astype('int64')\n",
    "\n",
    "# Add 'overweight' column\n",
    "df['height'] = df.loc[:,'height']*0.01\n",
    "df['BMI'] = df.loc[:,'weight']/(df.loc[:,'height']**2)\n",
    "df['overweight'] = 0\n",
    "df.loc[df['BMI']>25,'overweight'] = 1 \n",
    "\n",
    "# Normalize data by making 0 always good and 1 always bad. If the value of 'cholesterol' or 'gluc' is 1, make the value 0. If the value is more than 1, make the value 1.\n",
    "df.loc[df['cholesterol']==1,'cholesterol'] = 0\n",
    "df.loc[df['gluc']==1,'gluc'] = 0\n",
    "df.loc[df['cholesterol']>0,'cholesterol'] = 1\n",
    "df.loc[df['gluc']>0,'gluc'] = 1\n",
    "\n",
    "# Draw Categorical Plot\n",
    "def draw_cat_plot(df):\n",
    "    # Create DataFrame for cat plot using `pd.melt` using just the values from 'cholesterol', 'gluc', 'smoke', 'alco', 'active', and 'overweight'.\n",
    "    df_cat = pd.melt(df,id_vars = ['cardio'],value_vars=['cholesterol','gluc','smoke','alco','active','overweight'])\n",
    "\n",
    "    # Group and reformat the data to split it by 'cardio'. Show the counts of each feature. You will have to rename one of the columns for the catplot to work correctly.\n",
    "    df_cat = df_cat.groupby(['cardio', 'variable'])['value'].value_counts()\n",
    "    df_cat = df_cat.reset_index()\n",
    "\n",
    "    # Draw the catplot with 'sns.catplot()'\n",
    "    fig= sns.catplot(data= df_cat, x='variable', y = 'count',hue='value',col='cardio',kind='bar')\n",
    "\n",
    "    # Do not modify the next two lines\n",
    "    fig.savefig('catplot.png')\n",
    "    return fig\n",
    "\n",
    "# Draw Heat Map\n",
    "def draw_heat_map(df):\n",
    "    df_heat = df.copy()\n",
    "    # Clean the data\n",
    "    df_heat =df_heat.loc[df_heat['ap_lo']<=df_heat['ap_hi'],:]\n",
    "    df_heat =df_heat.loc[df_heat['height'] >= df_heat['height'].quantile(0.025),:]\n",
    "    df_heat =df_heat.loc[df_heat['height'] <= df_heat['height'].quantile(0.975),:]\n",
    "    df_heat =df_heat.loc[df_heat['weight'] >= df_heat['weight'].quantile(0.025),:]\n",
    "    df_heat =df_heat.loc[df_heat['weight'] <= df_heat['weight'].quantile(0.975),:]\n",
    "\n",
    "    # Calculate the correlation matrix\n",
    "    corr = df_heat.corr()\n",
    "\n",
    "    # Generate a mask for the upper triangle\n",
    "    mask = corr.copy()\n",
    "\n",
    "    for i in range(int(corr.shape[0])):\n",
    "        mask.iloc[i,i:] = np.nan\n",
    "    \n",
    "    # Set up the matplotlib figure\n",
    "    fig,ax = plt.subplots()\n",
    "\n",
    "    # Draw the heatmap with 'sns.heatmap()'\n",
    "    sns.heatmap(mask,ax=ax,annot=True, fmt=\".1f\")\n",
    "\n",
    "    # Do not modify the next two lines\n",
    "    fig.savefig('heatmap.png')\n",
    "    return fig\n"
   ]
  },
  {
   "cell_type": "code",
   "execution_count": 2,
   "id": "c2ea5dac-4fa2-46eb-a56d-6096d790c23c",
   "metadata": {},
   "outputs": [
    {
     "ename": "TypeError",
     "evalue": "draw_cat_plot() missing 1 required positional argument: 'df'",
     "output_type": "error",
     "traceback": [
      "\u001b[0;31m---------------------------------------------------------------------------\u001b[0m",
      "\u001b[0;31mTypeError\u001b[0m                                 Traceback (most recent call last)",
      "Cell \u001b[0;32mIn[2], line 6\u001b[0m\n\u001b[1;32m      3\u001b[0m \u001b[38;5;28;01mfrom\u001b[39;00m \u001b[38;5;21;01munittest\u001b[39;00m \u001b[38;5;28;01mimport\u001b[39;00m main\n\u001b[1;32m      5\u001b[0m \u001b[38;5;66;03m# Test your function by calling it here\u001b[39;00m\n\u001b[0;32m----> 6\u001b[0m \u001b[43mmedical_data_visualizer\u001b[49m\u001b[38;5;241;43m.\u001b[39;49m\u001b[43mdraw_cat_plot\u001b[49m\u001b[43m(\u001b[49m\u001b[43m)\u001b[49m\n\u001b[1;32m      7\u001b[0m medical_data_visualizer\u001b[38;5;241m.\u001b[39mdraw_heat_map()\n\u001b[1;32m      9\u001b[0m \u001b[38;5;66;03m# Run unit tests automatically\u001b[39;00m\n",
      "\u001b[0;31mTypeError\u001b[0m: draw_cat_plot() missing 1 required positional argument: 'df'"
     ]
    }
   ],
   "source": [
    "# This entrypoint file to be used in development. Start by reading README.md\n",
    "import medical_data_visualizer\n",
    "from unittest import main\n",
    "\n",
    "# Test your function by calling it here\n",
    "medical_data_visualizer.draw_cat_plot()\n",
    "medical_data_visualizer.draw_heat_map()\n",
    "\n",
    "# Run unit tests automatically\n",
    "main(module='test_module', exit=False)"
   ]
  },
  {
   "cell_type": "code",
   "execution_count": null,
   "id": "292a2bcf-29ca-4cd5-ac05-90686dee2eb3",
   "metadata": {},
   "outputs": [],
   "source": []
  }
 ],
 "metadata": {
  "kernelspec": {
   "display_name": "Python 3 (ipykernel)",
   "language": "python",
   "name": "python3"
  },
  "language_info": {
   "codemirror_mode": {
    "name": "ipython",
    "version": 3
   },
   "file_extension": ".py",
   "mimetype": "text/x-python",
   "name": "python",
   "nbconvert_exporter": "python",
   "pygments_lexer": "ipython3",
   "version": "3.9.6"
  }
 },
 "nbformat": 4,
 "nbformat_minor": 5
}
